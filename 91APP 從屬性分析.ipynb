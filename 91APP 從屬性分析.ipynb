{
 "cells": [
  {
   "cell_type": "code",
   "execution_count": 70,
   "metadata": {},
   "outputs": [],
   "source": [
    "import os\n",
    "import numpy as np  # useful for many scientific computing in Python\n",
    "import pandas as pd # primary data structure library\n",
    "import matplotlib.pyplot as plt\n",
    "import datetime\n",
    "import seaborn as sns\n",
    "import matplotlib as mpl\n",
    "%matplotlib inline\n",
    "\n",
    "\n",
    "#mpl.style.use('ggplot') # optional: for ggplot-like style\n",
    "\n",
    "# check for latest version of Matplotlib\n",
    "# print('Matplotlib version: ', mpl.__version__) # >= 2.0."
   ]
  },
  {
   "cell_type": "code",
   "execution_count": 3,
   "metadata": {},
   "outputs": [
    {
     "name": "stderr",
     "output_type": "stream",
     "text": [
      "/anaconda3/lib/python3.7/site-packages/IPython/core/interactiveshell.py:3049: DtypeWarning: Columns (23) have mixed types. Specify dtype option on import or set low_memory=False.\n",
      "  interactivity=interactivity, compiler=compiler, result=result)\n"
     ]
    }
   ],
   "source": [
    "orders = pd.read_csv('/Users/yichingchan/Documents/91APP/NTU_大數據與商業分析Datasets/Orders.csv')\n",
    "df_orders = orders.copy()"
   ]
  },
  {
   "cell_type": "code",
   "execution_count": 4,
   "metadata": {},
   "outputs": [
    {
     "name": "stderr",
     "output_type": "stream",
     "text": [
      "/anaconda3/lib/python3.7/site-packages/IPython/core/interactiveshell.py:3049: DtypeWarning: Columns (8) have mixed types. Specify dtype option on import or set low_memory=False.\n",
      "  interactivity=interactivity, compiler=compiler, result=result)\n"
     ]
    }
   ],
   "source": [
    "member = pd.read_csv('/Users/yichingchan/Documents/91APP/NTU_大數據與商業分析Datasets/Member.csv')\n",
    "df_members = member.copy()"
   ]
  },
  {
   "cell_type": "code",
   "execution_count": 5,
   "metadata": {},
   "outputs": [],
   "source": [
    "ECoupon = pd.read_csv('/Users/yichingchan/Documents/91APP/NTU_大數據與商業分析Datasets/ECoupon.csv')\n",
    "df_ECoupon = ECoupon.copy()"
   ]
  },
  {
   "cell_type": "code",
   "execution_count": 6,
   "metadata": {},
   "outputs": [],
   "source": [
    "PromotionConditions = pd.read_csv('/Users/yichingchan/Documents/91APP/NTU_大數據與商業分析Datasets/PromotionConditions.csv')\n",
    "df_PromotionConditions = PromotionConditions.copy()"
   ]
  },
  {
   "cell_type": "code",
   "execution_count": 7,
   "metadata": {},
   "outputs": [],
   "source": [
    "PromotionOrders = pd.read_csv('/Users/yichingchan/Documents/91APP/NTU_大數據與商業分析Datasets/PromotionOrders.csv')\n",
    "df_PromotionOrders = PromotionOrders.copy()"
   ]
  },
  {
   "cell_type": "markdown",
   "metadata": {},
   "source": [
    "### Member "
   ]
  },
  {
   "cell_type": "code",
   "execution_count": 8,
   "metadata": {},
   "outputs": [
    {
     "data": {
      "text/html": [
       "<div>\n",
       "<style scoped>\n",
       "    .dataframe tbody tr th:only-of-type {\n",
       "        vertical-align: middle;\n",
       "    }\n",
       "\n",
       "    .dataframe tbody tr th {\n",
       "        vertical-align: top;\n",
       "    }\n",
       "\n",
       "    .dataframe thead th {\n",
       "        text-align: right;\n",
       "    }\n",
       "</style>\n",
       "<table border=\"1\" class=\"dataframe\">\n",
       "  <thead>\n",
       "    <tr style=\"text-align: right;\">\n",
       "      <th></th>\n",
       "      <th>MemberId</th>\n",
       "      <th>Birthday</th>\n",
       "      <th>GenderTypeDef</th>\n",
       "      <th>RegisterSourceTypeDef</th>\n",
       "      <th>RegisterDateTime</th>\n",
       "      <th>MinOrderDate</th>\n",
       "      <th>OpenCardPresent</th>\n",
       "      <th>LastBirthdayPresentYear</th>\n",
       "      <th>IsInBlackList</th>\n",
       "    </tr>\n",
       "  </thead>\n",
       "  <tbody>\n",
       "    <tr>\n",
       "      <th>0</th>\n",
       "      <td>1587633</td>\n",
       "      <td>NaN</td>\n",
       "      <td>NaN</td>\n",
       "      <td>Web</td>\n",
       "      <td>2016-08-05 19:45:59.670</td>\n",
       "      <td>NaN</td>\n",
       "      <td>0</td>\n",
       "      <td>0</td>\n",
       "      <td>NaN</td>\n",
       "    </tr>\n",
       "    <tr>\n",
       "      <th>1</th>\n",
       "      <td>1587634</td>\n",
       "      <td>NaN</td>\n",
       "      <td>NaN</td>\n",
       "      <td>Web</td>\n",
       "      <td>2016-10-27 21:25:22.907</td>\n",
       "      <td>NaN</td>\n",
       "      <td>0</td>\n",
       "      <td>0</td>\n",
       "      <td>NaN</td>\n",
       "    </tr>\n",
       "    <tr>\n",
       "      <th>2</th>\n",
       "      <td>1587658</td>\n",
       "      <td>NaN</td>\n",
       "      <td>NaN</td>\n",
       "      <td>Web</td>\n",
       "      <td>2015-08-11 19:11:09.030</td>\n",
       "      <td>NaN</td>\n",
       "      <td>0</td>\n",
       "      <td>0</td>\n",
       "      <td>NaN</td>\n",
       "    </tr>\n",
       "    <tr>\n",
       "      <th>3</th>\n",
       "      <td>1587809</td>\n",
       "      <td>NaN</td>\n",
       "      <td>NaN</td>\n",
       "      <td>Web</td>\n",
       "      <td>2015-08-11 19:53:32.397</td>\n",
       "      <td>NaN</td>\n",
       "      <td>0</td>\n",
       "      <td>0</td>\n",
       "      <td>NaN</td>\n",
       "    </tr>\n",
       "    <tr>\n",
       "      <th>4</th>\n",
       "      <td>1587830</td>\n",
       "      <td>NaN</td>\n",
       "      <td>NaN</td>\n",
       "      <td>Web</td>\n",
       "      <td>2017-06-03 17:33:03.987</td>\n",
       "      <td>NaN</td>\n",
       "      <td>0</td>\n",
       "      <td>0</td>\n",
       "      <td>NaN</td>\n",
       "    </tr>\n",
       "  </tbody>\n",
       "</table>\n",
       "</div>"
      ],
      "text/plain": [
       "   MemberId Birthday GenderTypeDef RegisterSourceTypeDef  \\\n",
       "0   1587633      NaN           NaN                   Web   \n",
       "1   1587634      NaN           NaN                   Web   \n",
       "2   1587658      NaN           NaN                   Web   \n",
       "3   1587809      NaN           NaN                   Web   \n",
       "4   1587830      NaN           NaN                   Web   \n",
       "\n",
       "          RegisterDateTime MinOrderDate  OpenCardPresent  \\\n",
       "0  2016-08-05 19:45:59.670          NaN                0   \n",
       "1  2016-10-27 21:25:22.907          NaN                0   \n",
       "2  2015-08-11 19:11:09.030          NaN                0   \n",
       "3  2015-08-11 19:53:32.397          NaN                0   \n",
       "4  2017-06-03 17:33:03.987          NaN                0   \n",
       "\n",
       "   LastBirthdayPresentYear IsInBlackList  \n",
       "0                        0           NaN  \n",
       "1                        0           NaN  \n",
       "2                        0           NaN  \n",
       "3                        0           NaN  \n",
       "4                        0           NaN  "
      ]
     },
     "execution_count": 8,
     "metadata": {},
     "output_type": "execute_result"
    }
   ],
   "source": [
    "df_members.head()"
   ]
  },
  {
   "cell_type": "code",
   "execution_count": 11,
   "metadata": {},
   "outputs": [
    {
     "data": {
      "text/html": [
       "<div>\n",
       "<style scoped>\n",
       "    .dataframe tbody tr th:only-of-type {\n",
       "        vertical-align: middle;\n",
       "    }\n",
       "\n",
       "    .dataframe tbody tr th {\n",
       "        vertical-align: top;\n",
       "    }\n",
       "\n",
       "    .dataframe thead th {\n",
       "        text-align: right;\n",
       "    }\n",
       "</style>\n",
       "<table border=\"1\" class=\"dataframe\">\n",
       "  <thead>\n",
       "    <tr style=\"text-align: right;\">\n",
       "      <th></th>\n",
       "      <th>MemberId</th>\n",
       "      <th>Birthday</th>\n",
       "      <th>GenderTypeDef</th>\n",
       "      <th>RegisterSourceTypeDef</th>\n",
       "      <th>RegisterDateTime</th>\n",
       "      <th>MinOrderDate</th>\n",
       "      <th>OpenCardPresent</th>\n",
       "      <th>LastBirthdayPresentYear</th>\n",
       "      <th>IsInBlackList</th>\n",
       "    </tr>\n",
       "  </thead>\n",
       "  <tbody>\n",
       "    <tr>\n",
       "      <th>count</th>\n",
       "      <td>8.591460e+05</td>\n",
       "      <td>237275</td>\n",
       "      <td>237276</td>\n",
       "      <td>829143</td>\n",
       "      <td>859146</td>\n",
       "      <td>562300</td>\n",
       "      <td>859146.000000</td>\n",
       "      <td>859146.000000</td>\n",
       "      <td>1004</td>\n",
       "    </tr>\n",
       "    <tr>\n",
       "      <th>unique</th>\n",
       "      <td>NaN</td>\n",
       "      <td>15096</td>\n",
       "      <td>2</td>\n",
       "      <td>3</td>\n",
       "      <td>834059</td>\n",
       "      <td>1076</td>\n",
       "      <td>NaN</td>\n",
       "      <td>NaN</td>\n",
       "      <td>2</td>\n",
       "    </tr>\n",
       "    <tr>\n",
       "      <th>top</th>\n",
       "      <td>NaN</td>\n",
       "      <td>1996-11-13</td>\n",
       "      <td>Female</td>\n",
       "      <td>Web</td>\n",
       "      <td>2015-07-14 16:38:27.753</td>\n",
       "      <td>2016-11-11</td>\n",
       "      <td>NaN</td>\n",
       "      <td>NaN</td>\n",
       "      <td>是</td>\n",
       "    </tr>\n",
       "    <tr>\n",
       "      <th>freq</th>\n",
       "      <td>NaN</td>\n",
       "      <td>70</td>\n",
       "      <td>234540</td>\n",
       "      <td>624375</td>\n",
       "      <td>1771</td>\n",
       "      <td>2462</td>\n",
       "      <td>NaN</td>\n",
       "      <td>NaN</td>\n",
       "      <td>680</td>\n",
       "    </tr>\n",
       "    <tr>\n",
       "      <th>mean</th>\n",
       "      <td>2.401128e+06</td>\n",
       "      <td>NaN</td>\n",
       "      <td>NaN</td>\n",
       "      <td>NaN</td>\n",
       "      <td>NaN</td>\n",
       "      <td>NaN</td>\n",
       "      <td>1028.080041</td>\n",
       "      <td>464.840006</td>\n",
       "      <td>NaN</td>\n",
       "    </tr>\n",
       "    <tr>\n",
       "      <th>std</th>\n",
       "      <td>1.605855e+06</td>\n",
       "      <td>NaN</td>\n",
       "      <td>NaN</td>\n",
       "      <td>NaN</td>\n",
       "      <td>NaN</td>\n",
       "      <td>NaN</td>\n",
       "      <td>2385.726182</td>\n",
       "      <td>849.534746</td>\n",
       "      <td>NaN</td>\n",
       "    </tr>\n",
       "    <tr>\n",
       "      <th>min</th>\n",
       "      <td>1.321000e+03</td>\n",
       "      <td>NaN</td>\n",
       "      <td>NaN</td>\n",
       "      <td>NaN</td>\n",
       "      <td>NaN</td>\n",
       "      <td>NaN</td>\n",
       "      <td>0.000000</td>\n",
       "      <td>0.000000</td>\n",
       "      <td>NaN</td>\n",
       "    </tr>\n",
       "    <tr>\n",
       "      <th>25%</th>\n",
       "      <td>1.117701e+06</td>\n",
       "      <td>NaN</td>\n",
       "      <td>NaN</td>\n",
       "      <td>NaN</td>\n",
       "      <td>NaN</td>\n",
       "      <td>NaN</td>\n",
       "      <td>0.000000</td>\n",
       "      <td>0.000000</td>\n",
       "      <td>NaN</td>\n",
       "    </tr>\n",
       "    <tr>\n",
       "      <th>50%</th>\n",
       "      <td>2.134418e+06</td>\n",
       "      <td>NaN</td>\n",
       "      <td>NaN</td>\n",
       "      <td>NaN</td>\n",
       "      <td>NaN</td>\n",
       "      <td>NaN</td>\n",
       "      <td>0.000000</td>\n",
       "      <td>0.000000</td>\n",
       "      <td>NaN</td>\n",
       "    </tr>\n",
       "    <tr>\n",
       "      <th>75%</th>\n",
       "      <td>3.505592e+06</td>\n",
       "      <td>NaN</td>\n",
       "      <td>NaN</td>\n",
       "      <td>NaN</td>\n",
       "      <td>NaN</td>\n",
       "      <td>NaN</td>\n",
       "      <td>467.000000</td>\n",
       "      <td>0.000000</td>\n",
       "      <td>NaN</td>\n",
       "    </tr>\n",
       "    <tr>\n",
       "      <th>max</th>\n",
       "      <td>6.765774e+06</td>\n",
       "      <td>NaN</td>\n",
       "      <td>NaN</td>\n",
       "      <td>NaN</td>\n",
       "      <td>NaN</td>\n",
       "      <td>NaN</td>\n",
       "      <td>11428.000000</td>\n",
       "      <td>2018.000000</td>\n",
       "      <td>NaN</td>\n",
       "    </tr>\n",
       "  </tbody>\n",
       "</table>\n",
       "</div>"
      ],
      "text/plain": [
       "            MemberId    Birthday GenderTypeDef RegisterSourceTypeDef  \\\n",
       "count   8.591460e+05      237275        237276                829143   \n",
       "unique           NaN       15096             2                     3   \n",
       "top              NaN  1996-11-13        Female                   Web   \n",
       "freq             NaN          70        234540                624375   \n",
       "mean    2.401128e+06         NaN           NaN                   NaN   \n",
       "std     1.605855e+06         NaN           NaN                   NaN   \n",
       "min     1.321000e+03         NaN           NaN                   NaN   \n",
       "25%     1.117701e+06         NaN           NaN                   NaN   \n",
       "50%     2.134418e+06         NaN           NaN                   NaN   \n",
       "75%     3.505592e+06         NaN           NaN                   NaN   \n",
       "max     6.765774e+06         NaN           NaN                   NaN   \n",
       "\n",
       "               RegisterDateTime MinOrderDate  OpenCardPresent  \\\n",
       "count                    859146       562300    859146.000000   \n",
       "unique                   834059         1076              NaN   \n",
       "top     2015-07-14 16:38:27.753   2016-11-11              NaN   \n",
       "freq                       1771         2462              NaN   \n",
       "mean                        NaN          NaN      1028.080041   \n",
       "std                         NaN          NaN      2385.726182   \n",
       "min                         NaN          NaN         0.000000   \n",
       "25%                         NaN          NaN         0.000000   \n",
       "50%                         NaN          NaN         0.000000   \n",
       "75%                         NaN          NaN       467.000000   \n",
       "max                         NaN          NaN     11428.000000   \n",
       "\n",
       "        LastBirthdayPresentYear IsInBlackList  \n",
       "count             859146.000000          1004  \n",
       "unique                      NaN             2  \n",
       "top                         NaN             是  \n",
       "freq                        NaN           680  \n",
       "mean                 464.840006           NaN  \n",
       "std                  849.534746           NaN  \n",
       "min                    0.000000           NaN  \n",
       "25%                    0.000000           NaN  \n",
       "50%                    0.000000           NaN  \n",
       "75%                    0.000000           NaN  \n",
       "max                 2018.000000           NaN  "
      ]
     },
     "execution_count": 11,
     "metadata": {},
     "output_type": "execute_result"
    }
   ],
   "source": [
    "df_members.describe(include='all')"
   ]
  },
  {
   "cell_type": "code",
   "execution_count": 9,
   "metadata": {},
   "outputs": [
    {
     "name": "stdout",
     "output_type": "stream",
     "text": [
      "<class 'pandas.core.frame.DataFrame'>\n",
      "RangeIndex: 859146 entries, 0 to 859145\n",
      "Data columns (total 9 columns):\n",
      "MemberId                   859146 non-null int64\n",
      "Birthday                   237275 non-null object\n",
      "GenderTypeDef              237276 non-null object\n",
      "RegisterSourceTypeDef      829143 non-null object\n",
      "RegisterDateTime           859146 non-null object\n",
      "MinOrderDate               562300 non-null object\n",
      "OpenCardPresent            859146 non-null int64\n",
      "LastBirthdayPresentYear    859146 non-null int64\n",
      "IsInBlackList              1004 non-null object\n",
      "dtypes: int64(3), object(6)\n",
      "memory usage: 59.0+ MB\n"
     ]
    }
   ],
   "source": [
    "df_members.info()\n",
    "#memberID沒有缺漏值，但不確定是會員（有主動註冊）還是有購物者就會自動補ID --> 應該是都有註冊，但有註冊不代表有開卡禮，要填資料才有"
   ]
  },
  {
   "cell_type": "code",
   "execution_count": 31,
   "metadata": {},
   "outputs": [
    {
     "data": {
      "text/plain": [
       "Female    234540\n",
       "Male        2736\n",
       "Name: GenderTypeDef, dtype: int64"
      ]
     },
     "execution_count": 31,
     "metadata": {},
     "output_type": "execute_result"
    }
   ],
   "source": [
    "df_members['GenderTypeDef'].value_counts()\n",
    "#發現男生非常少->可以忽略性別的差異，因為幾乎都是女生"
   ]
  },
  {
   "cell_type": "code",
   "execution_count": 72,
   "metadata": {},
   "outputs": [
    {
     "name": "stdout",
     "output_type": "stream",
     "text": [
      "Web           624375\n",
      "AndroidApp    109704\n",
      "iOSApp         95064\n",
      "Name: RegisterSourceTypeDef, dtype: int64\n"
     ]
    },
    {
     "data": {
      "text/plain": [
       "<matplotlib.axes._subplots.AxesSubplot at 0x1a2b1f4b38>"
      ]
     },
     "execution_count": 72,
     "metadata": {},
     "output_type": "execute_result"
    },
    {
     "data": {
      "image/png": "[encoded data removed]",
      "text/plain": [
       "<Figure size 432x288 with 1 Axes>"
      ]
     },
     "metadata": {},
     "output_type": "display_data"
    }
   ],
   "source": [
    "#註冊管道\n",
    "print(df_members['RegisterSourceTypeDef'].value_counts())\n",
    "sns.countplot(data = df_members, x = 'RegisterSourceTypeDef', hue='GenderTypeDef')\n",
    "#高比例是web註冊，其次是IOS\n",
    "\n",
    "#不同裝置單次購物金額是否有差？"
   ]
  },
  {
   "cell_type": "code",
   "execution_count": 88,
   "metadata": {},
   "outputs": [
    {
     "data": {
      "text/plain": [
       "0        624888\n",
       "1078      11997\n",
       "1292      11092\n",
       "1838      10618\n",
       "630       10577\n",
       "2664      10531\n",
       "8596      10311\n",
       "544        9982\n",
       "10342      9443\n",
       "2577       9278\n",
       "467        9040\n",
       "1438       8551\n",
       "2294       8378\n",
       "2051       7922\n",
       "5489       7771\n",
       "4974       7702\n",
       "8052       6955\n",
       "1626       6950\n",
       "7693       6862\n",
       "5493       6103\n",
       "10788      5812\n",
       "4559       5701\n",
       "812        5065\n",
       "383        4986\n",
       "9175       4865\n",
       "3581       4729\n",
       "5938       4729\n",
       "7282       4265\n",
       "961        4199\n",
       "6547       3921\n",
       "6879       3314\n",
       "190        3267\n",
       "4183       3262\n",
       "318        3042\n",
       "11428      1414\n",
       "173        1168\n",
       "127         370\n",
       "98           86\n",
       "Name: OpenCardPresent, dtype: int64"
      ]
     },
     "execution_count": 88,
     "metadata": {},
     "output_type": "execute_result"
    }
   ],
   "source": [
    "#開卡禮\n",
    "df_members['OpenCardPresent'].value_counts() #有624888個人沒有領開卡禮\n",
    "#數字什麼意思？？promotion code??"
   ]
  },
  {
   "cell_type": "code",
   "execution_count": 29,
   "metadata": {},
   "outputs": [
    {
     "name": "stdout",
     "output_type": "stream",
     "text": [
      "False    624888\n",
      "True     234258\n",
      "Name: get_OpenCardPresent, dtype: int64\n"
     ]
    }
   ],
   "source": [
    "#根據有沒有領開卡禮設boolean\n",
    "df_members.loc[df_members.OpenCardPresent == 0, 'get_OpenCardPresent'] = False\n",
    "df_members.loc[df_members.OpenCardPresent != 0, 'get_OpenCardPresent'] = True\n",
    "print(df_members['get_OpenCardPresent'].value_counts())"
   ]
  },
  {
   "cell_type": "code",
   "execution_count": 53,
   "metadata": {},
   "outputs": [
    {
     "name": "stdout",
     "output_type": "stream",
     "text": [
      "0       661189\n",
      "2017    111790\n",
      "2018     86165\n",
      "2016         2\n",
      "Name: LastBirthdayPresentYear, dtype: int64\n",
      "False    661189\n",
      "True     197957\n",
      "Name: get_LastBirthdayPresentYear, dtype: int64\n",
      "get_OpenCardPresent  get_LastBirthdayPresentYear\n",
      "False                False                          621898\n",
      "                     True                             2990\n",
      "True                 True                           194967\n",
      "                     False                           39291\n",
      "Name: get_LastBirthdayPresentYear, dtype: int64\n"
     ]
    },
    {
     "data": {
      "image/png": "[encoded data removed]",
      "text/plain": [
       "<Figure size 432x288 with 1 Axes>"
      ]
     },
     "metadata": {
      "needs_background": "light"
     },
     "output_type": "display_data"
    }
   ],
   "source": [
    "#領生日禮\n",
    "print(df_members['LastBirthdayPresentYear'].value_counts() ) #有661189個人沒有領生日禮\n",
    "sns.countplot(data = df_members, x = 'LastBirthdayPresentYear', hue='get_OpenCardPresent') \n",
    "\n",
    "#根據有沒有領生日禮設boolean\n",
    "df_members.loc[df_members.LastBirthdayPresentYear == 0, 'get_LastBirthdayPresentYear'] = False\n",
    "df_members.loc[df_members.LastBirthdayPresentYear != 0, 'get_LastBirthdayPresentYear'] = True\n",
    "print(df_members['get_LastBirthdayPresentYear'].value_counts())\n",
    "\n",
    "print(df_members.groupby('get_OpenCardPresent')['get_LastBirthdayPresentYear'].value_counts())\n",
    "#沒有領開卡禮的人，也幾乎都沒有領生日禮\n",
    "#有領開卡禮的人，有蠻多也有領生日禮 (約20萬人)-->是否真的有消費？有！約17萬有首購"
   ]
  },
  {
   "cell_type": "code",
   "execution_count": 92,
   "metadata": {},
   "outputs": [
    {
     "data": {
      "text/plain": [
       "True     562300\n",
       "False    296846\n",
       "Name: MinOrder, dtype: int64"
      ]
     },
     "execution_count": 92,
     "metadata": {},
     "output_type": "execute_result"
    }
   ],
   "source": [
    "#根據有沒有首購設boolean\n",
    "df_members.loc[df_members.MinOrderDate.notnull() == False, 'MinOrder'] = False\n",
    "df_members.loc[df_members.MinOrderDate.notnull() == True, 'MinOrder'] = True\n",
    "df_members['MinOrder'].value_counts()"
   ]
  },
  {
   "cell_type": "code",
   "execution_count": 86,
   "metadata": {},
   "outputs": [
    {
     "name": "stdout",
     "output_type": "stream",
     "text": [
      "get_OpenCardPresent  get_LastBirthdayPresentYear  MinOrder\n",
      "False                False                        True        360568\n",
      "                                                  False       261330\n",
      "                     True                         True          1980\n",
      "                                                  False         1010\n",
      "True                 False                        True         32072\n",
      "                                                  False         7219\n",
      "                     True                         True        167680\n",
      "                                                  False        27287\n",
      "Name: MinOrder, dtype: int64\n"
     ]
    },
    {
     "data": {
      "text/plain": [
       "<seaborn.axisgrid.FacetGrid at 0x1a29586c18>"
      ]
     },
     "execution_count": 86,
     "metadata": {},
     "output_type": "execute_result"
    },
    {
     "data": {
      "image/png": "[encoded data removed]",
      "text/plain": [
       "<Figure size 432x288 with 1 Axes>"
      ]
     },
     "metadata": {},
     "output_type": "display_data"
    },
    {
     "data": {
      "image/png": "[encoded data removed]",
      "text/plain": [
       "<Figure size 1140.75x360 with 3 Axes>"
      ]
     },
     "metadata": {},
     "output_type": "display_data"
    }
   ],
   "source": [
    "print(df_members.groupby(['get_OpenCardPresent','get_LastBirthdayPresentYear'])['MinOrder'].value_counts())\n",
    "\n",
    "#把有無開卡禮和生日禮寫在一起\n",
    "df_members.loc[(df_members.get_OpenCardPresent == True) & (df_members.get_LastBirthdayPresentYear == True), 'status'] = '有開卡有生日'\n",
    "df_members.loc[(df_members.get_OpenCardPresent == True) & (df_members.get_LastBirthdayPresentYear == False), 'status'] = '有開卡無生日'\n",
    "df_members.loc[(df_members.get_OpenCardPresent == False) & (df_members.get_LastBirthdayPresentYear == True), 'status'] = '無開卡有生日'\n",
    "df_members.loc[(df_members.get_OpenCardPresent == False) & (df_members.get_LastBirthdayPresentYear == False), 'status'] = '無開卡無生日'\n",
    "\n",
    "sns.countplot(data = df_members, x = 'status', hue='MinOrder') \n",
    "#無開卡無生日禮的，有非常多人首購 \n",
    "#有開卡禮的人有蠻高比例會消費，有生日禮的卻不然 --> 猜測有開卡禮有生日禮的應該算「較活躍客戶」\n",
    "\n",
    "##下載aPP就有送線上折價卷200，填資料才送開卡禮100，生日禮1200\n",
    "\n",
    "sns.catplot(data = df_members, x = 'status', hue='MinOrder', col = 'RegisterSourceTypeDef', kind='count') \n",
    "#無開卡無生日禮的 --> 多用web首購\n",
    "#有開卡有生日禮的 --> 最多用web首購，但用APP的人數多於開卡無生日禮的人用aPP首購的人數 \n",
    "#  --> 會下載aPP填寫會員資料的基本上就是黏著性較高的人？不然填資料其實蠻麻煩？\n",
    "\n",
    "#(1)有開卡有生日禮的，且用APP購物的，是否之後的消費行為也多用APP消費？還是購買數量會影響決定用哪個管道？\n",
    "#(2)細部去看開卡禮和生日禮對後續消費日期的影響 --> 是不是黏著度高的客戶，對促銷和折扣較敏感，表示較有刺激消費的效果？\n",
    "#(3)無生日無生日 和 有開卡有生日 的消費行為有何差異？ \n",
    "#(4)無開卡有生日 人很少，先忽略\n"
   ]
  },
  {
   "cell_type": "markdown",
   "metadata": {},
   "source": [
    "### Orders"
   ]
  },
  {
   "cell_type": "code",
   "execution_count": 87,
   "metadata": {},
   "outputs": [
    {
     "data": {
      "text/html": [
       "<div>\n",
       "<style scoped>\n",
       "    .dataframe tbody tr th:only-of-type {\n",
       "        vertical-align: middle;\n",
       "    }\n",
       "\n",
       "    .dataframe tbody tr th {\n",
       "        vertical-align: top;\n",
       "    }\n",
       "\n",
       "    .dataframe thead th {\n",
       "        text-align: right;\n",
       "    }\n",
       "</style>\n",
       "<table border=\"1\" class=\"dataframe\">\n",
       "  <thead>\n",
       "    <tr style=\"text-align: right;\">\n",
       "      <th></th>\n",
       "      <th>DateId</th>\n",
       "      <th>MemberId</th>\n",
       "      <th>OrderGroupCode</th>\n",
       "      <th>TrackSourceTypeDef</th>\n",
       "      <th>TrackDeviceTypeDef</th>\n",
       "      <th>PayProfileTypeDef</th>\n",
       "      <th>SalesOrderSlaveId</th>\n",
       "      <th>SalePageId</th>\n",
       "      <th>IsMajor</th>\n",
       "      <th>IsGift</th>\n",
       "      <th>...</th>\n",
       "      <th>SalesOrderReceiverId</th>\n",
       "      <th>City</th>\n",
       "      <th>District</th>\n",
       "      <th>ZipCode</th>\n",
       "      <th>StoreName</th>\n",
       "      <th>StoreId</th>\n",
       "      <th>DeliverTypeDef</th>\n",
       "      <th>StatusDef</th>\n",
       "      <th>ReturnGoodsDateId</th>\n",
       "      <th>CauseDef</th>\n",
       "    </tr>\n",
       "  </thead>\n",
       "  <tbody>\n",
       "    <tr>\n",
       "      <th>0</th>\n",
       "      <td>20150703</td>\n",
       "      <td>1388133</td>\n",
       "      <td>b'\\xd0_\\x8eby\\xe8\\x88\\xa5\\x85\\xe4\\x15\\nMC\\xeaO...</td>\n",
       "      <td>Web</td>\n",
       "      <td>Mobile</td>\n",
       "      <td>SevenEleven</td>\n",
       "      <td>4457777</td>\n",
       "      <td>1242871</td>\n",
       "      <td>True</td>\n",
       "      <td>False</td>\n",
       "      <td>...</td>\n",
       "      <td>1480890</td>\n",
       "      <td>嘉義縣</td>\n",
       "      <td>水上鄉</td>\n",
       "      <td>608.0</td>\n",
       "      <td>中庄門市</td>\n",
       "      <td>910828</td>\n",
       "      <td>SevenEleven</td>\n",
       "      <td>Finish</td>\n",
       "      <td>NaN</td>\n",
       "      <td>NaN</td>\n",
       "    </tr>\n",
       "    <tr>\n",
       "      <th>1</th>\n",
       "      <td>20150703</td>\n",
       "      <td>1388133</td>\n",
       "      <td>b'\\xd0_\\x8eby\\xe8\\x88\\xa5\\x85\\xe4\\x15\\nMC\\xeaO...</td>\n",
       "      <td>Web</td>\n",
       "      <td>Mobile</td>\n",
       "      <td>SevenEleven</td>\n",
       "      <td>4457778</td>\n",
       "      <td>1242880</td>\n",
       "      <td>True</td>\n",
       "      <td>False</td>\n",
       "      <td>...</td>\n",
       "      <td>1480890</td>\n",
       "      <td>嘉義縣</td>\n",
       "      <td>水上鄉</td>\n",
       "      <td>608.0</td>\n",
       "      <td>中庄門市</td>\n",
       "      <td>910828</td>\n",
       "      <td>SevenEleven</td>\n",
       "      <td>Finish</td>\n",
       "      <td>NaN</td>\n",
       "      <td>NaN</td>\n",
       "    </tr>\n",
       "    <tr>\n",
       "      <th>2</th>\n",
       "      <td>20150703</td>\n",
       "      <td>1388133</td>\n",
       "      <td>b'\\xd0_\\x8eby\\xe8\\x88\\xa5\\x85\\xe4\\x15\\nMC\\xeaO...</td>\n",
       "      <td>Web</td>\n",
       "      <td>Mobile</td>\n",
       "      <td>SevenEleven</td>\n",
       "      <td>4457779</td>\n",
       "      <td>1242880</td>\n",
       "      <td>True</td>\n",
       "      <td>False</td>\n",
       "      <td>...</td>\n",
       "      <td>1480890</td>\n",
       "      <td>嘉義縣</td>\n",
       "      <td>水上鄉</td>\n",
       "      <td>608.0</td>\n",
       "      <td>中庄門市</td>\n",
       "      <td>910828</td>\n",
       "      <td>SevenEleven</td>\n",
       "      <td>Finish</td>\n",
       "      <td>NaN</td>\n",
       "      <td>NaN</td>\n",
       "    </tr>\n",
       "    <tr>\n",
       "      <th>3</th>\n",
       "      <td>20150703</td>\n",
       "      <td>1388133</td>\n",
       "      <td>b'\\xd0_\\x8eby\\xe8\\x88\\xa5\\x85\\xe4\\x15\\nMC\\xeaO...</td>\n",
       "      <td>Web</td>\n",
       "      <td>Mobile</td>\n",
       "      <td>SevenEleven</td>\n",
       "      <td>4457780</td>\n",
       "      <td>1175574</td>\n",
       "      <td>True</td>\n",
       "      <td>False</td>\n",
       "      <td>...</td>\n",
       "      <td>1480890</td>\n",
       "      <td>嘉義縣</td>\n",
       "      <td>水上鄉</td>\n",
       "      <td>608.0</td>\n",
       "      <td>中庄門市</td>\n",
       "      <td>910828</td>\n",
       "      <td>SevenEleven</td>\n",
       "      <td>Finish</td>\n",
       "      <td>NaN</td>\n",
       "      <td>NaN</td>\n",
       "    </tr>\n",
       "    <tr>\n",
       "      <th>4</th>\n",
       "      <td>20150703</td>\n",
       "      <td>365787</td>\n",
       "      <td>b\"\\x04?}pe$m\\x7f\\x85\\xa0y\\x81'e5\\xca\\xbb\\xf9\\x...</td>\n",
       "      <td>Web</td>\n",
       "      <td>Mobile</td>\n",
       "      <td>SevenEleven</td>\n",
       "      <td>4457791</td>\n",
       "      <td>1194488</td>\n",
       "      <td>True</td>\n",
       "      <td>False</td>\n",
       "      <td>...</td>\n",
       "      <td>1480896</td>\n",
       "      <td>桃園市</td>\n",
       "      <td>中壢區</td>\n",
       "      <td>320.0</td>\n",
       "      <td>復華門市</td>\n",
       "      <td>114071</td>\n",
       "      <td>SevenEleven</td>\n",
       "      <td>Finish</td>\n",
       "      <td>NaN</td>\n",
       "      <td>NaN</td>\n",
       "    </tr>\n",
       "  </tbody>\n",
       "</table>\n",
       "<p>5 rows × 28 columns</p>\n",
       "</div>"
      ],
      "text/plain": [
       "     DateId  MemberId                                     OrderGroupCode  \\\n",
       "0  20150703   1388133  b'\\xd0_\\x8eby\\xe8\\x88\\xa5\\x85\\xe4\\x15\\nMC\\xeaO...   \n",
       "1  20150703   1388133  b'\\xd0_\\x8eby\\xe8\\x88\\xa5\\x85\\xe4\\x15\\nMC\\xeaO...   \n",
       "2  20150703   1388133  b'\\xd0_\\x8eby\\xe8\\x88\\xa5\\x85\\xe4\\x15\\nMC\\xeaO...   \n",
       "3  20150703   1388133  b'\\xd0_\\x8eby\\xe8\\x88\\xa5\\x85\\xe4\\x15\\nMC\\xeaO...   \n",
       "4  20150703    365787  b\"\\x04?}pe$m\\x7f\\x85\\xa0y\\x81'e5\\xca\\xbb\\xf9\\x...   \n",
       "\n",
       "  TrackSourceTypeDef TrackDeviceTypeDef PayProfileTypeDef  SalesOrderSlaveId  \\\n",
       "0                Web             Mobile       SevenEleven            4457777   \n",
       "1                Web             Mobile       SevenEleven            4457778   \n",
       "2                Web             Mobile       SevenEleven            4457779   \n",
       "3                Web             Mobile       SevenEleven            4457780   \n",
       "4                Web             Mobile       SevenEleven            4457791   \n",
       "\n",
       "   SalePageId  IsMajor  IsGift  ...  SalesOrderReceiverId  City  District  \\\n",
       "0     1242871     True   False  ...               1480890   嘉義縣       水上鄉   \n",
       "1     1242880     True   False  ...               1480890   嘉義縣       水上鄉   \n",
       "2     1242880     True   False  ...               1480890   嘉義縣       水上鄉   \n",
       "3     1175574     True   False  ...               1480890   嘉義縣       水上鄉   \n",
       "4     1194488     True   False  ...               1480896   桃園市       中壢區   \n",
       "\n",
       "   ZipCode  StoreName  StoreId  DeliverTypeDef StatusDef  ReturnGoodsDateId  \\\n",
       "0    608.0       中庄門市   910828     SevenEleven    Finish                NaN   \n",
       "1    608.0       中庄門市   910828     SevenEleven    Finish                NaN   \n",
       "2    608.0       中庄門市   910828     SevenEleven    Finish                NaN   \n",
       "3    608.0       中庄門市   910828     SevenEleven    Finish                NaN   \n",
       "4    320.0       復華門市   114071     SevenEleven    Finish                NaN   \n",
       "\n",
       "  CauseDef  \n",
       "0      NaN  \n",
       "1      NaN  \n",
       "2      NaN  \n",
       "3      NaN  \n",
       "4      NaN  \n",
       "\n",
       "[5 rows x 28 columns]"
      ]
     },
     "execution_count": 87,
     "metadata": {},
     "output_type": "execute_result"
    }
   ],
   "source": [
    "df_orders.head()"
   ]
  },
  {
   "cell_type": "code",
   "execution_count": 89,
   "metadata": {},
   "outputs": [
    {
     "name": "stdout",
     "output_type": "stream",
     "text": [
      "<class 'pandas.core.frame.DataFrame'>\n",
      "RangeIndex: 5495276 entries, 0 to 5495275\n",
      "Data columns (total 28 columns):\n",
      "DateId                         int64\n",
      "MemberId                       int64\n",
      "OrderGroupCode                 object\n",
      "TrackSourceTypeDef             object\n",
      "TrackDeviceTypeDef             object\n",
      "PayProfileTypeDef              object\n",
      "SalesOrderSlaveId              int64\n",
      "SalePageId                     int64\n",
      "IsMajor                        bool\n",
      "IsGift                         bool\n",
      "IsSalePageGift                 bool\n",
      "Quantity                       int64\n",
      "UnitPrice                      float64\n",
      "PromotionDiscount              float64\n",
      "ECouponId                      int64\n",
      "ECouponDiscount                float64\n",
      "SalesOrderSlaveTotalPayment    float64\n",
      "SalesOrderSlaveDateTime        object\n",
      "SalesOrderReceiverId           int64\n",
      "City                           object\n",
      "District                       object\n",
      "ZipCode                        float64\n",
      "StoreName                      object\n",
      "StoreId                        object\n",
      "DeliverTypeDef                 object\n",
      "StatusDef                      object\n",
      "ReturnGoodsDateId              float64\n",
      "CauseDef                       object\n",
      "dtypes: bool(3), float64(6), int64(7), object(12)\n",
      "memory usage: 1.0+ GB\n"
     ]
    }
   ],
   "source": [
    "df_orders.info()"
   ]
  },
  {
   "cell_type": "code",
   "execution_count": 91,
   "metadata": {},
   "outputs": [
    {
     "data": {
      "text/plain": [
       "563457"
      ]
     },
     "execution_count": 91,
     "metadata": {},
     "output_type": "execute_result"
    }
   ],
   "source": [
    "df_orders['MemberId'].nunique() #和member dataset中有首購的人數差不多 #有不是會員的人在裡面嗎？"
   ]
  },
  {
   "cell_type": "code",
   "execution_count": 110,
   "metadata": {},
   "outputs": [],
   "source": [
    "#把有沒有生日禮和開卡禮的狀態，加入到df_orders\n",
    "df_orders = pd.merge(df_orders, df_members[['MemberId', 'status']], on = 'MemberId', how = 'outer')"
   ]
  },
  {
   "cell_type": "code",
   "execution_count": 124,
   "metadata": {},
   "outputs": [
    {
     "data": {
      "text/plain": [
       "MemberId  status\n",
       "1321      無開卡無生日     1\n",
       "1323      無開卡無生日     1\n",
       "1326      無開卡無生日     1\n",
       "1328      無開卡無生日     1\n",
       "1329      無開卡無生日     3\n",
       "1331      無開卡無生日     1\n",
       "1334      無開卡無生日     3\n",
       "1356      無開卡無生日     1\n",
       "1362      有開卡有生日     4\n",
       "1364      無開卡無生日     1\n",
       "1372      無開卡無生日     2\n",
       "1373      無開卡無生日    14\n",
       "1380      無開卡無生日     1\n",
       "1384      無開卡無生日     6\n",
       "1391      有開卡無生日    25\n",
       "1393      無開卡無生日     1\n",
       "1400      無開卡無生日     1\n",
       "1423      無開卡無生日     2\n",
       "1448      無開卡無生日    29\n",
       "1463      有開卡無生日     1\n",
       "1469      有開卡有生日    53\n",
       "1474      無開卡無生日    14\n",
       "1489      無開卡無生日     1\n",
       "1490      有開卡有生日    14\n",
       "1498      有開卡有生日     6\n",
       "1514      無開卡無生日     2\n",
       "1537      無開卡無生日     1\n",
       "1542      無開卡無生日     1\n",
       "1550      無開卡無生日     1\n",
       "1583      無開卡無生日     1\n",
       "                    ..\n",
       "6763264   無開卡無生日     1\n",
       "6763309   無開卡無生日     2\n",
       "6763324   無開卡無生日     1\n",
       "6763478   無開卡無生日     1\n",
       "6763531   有開卡無生日     1\n",
       "6763600   無開卡無生日     3\n",
       "6763691   無開卡無生日     1\n",
       "6763694   無開卡無生日    11\n",
       "6763822   無開卡無生日     3\n",
       "6763857   有開卡有生日     1\n",
       "6764214   有開卡無生日     7\n",
       "6764258   無開卡無生日     1\n",
       "6764421   無開卡無生日     4\n",
       "6764619   無開卡無生日     1\n",
       "6764662   無開卡無生日     1\n",
       "6764752   無開卡無生日     1\n",
       "6764778   無開卡無生日     1\n",
       "6765027   無開卡無生日     1\n",
       "6765279   無開卡無生日     3\n",
       "6765345   有開卡有生日     1\n",
       "6765350   有開卡無生日     3\n",
       "6765432   無開卡無生日     3\n",
       "6765454   無開卡無生日     8\n",
       "6765457   無開卡無生日     1\n",
       "6765596   有開卡無生日    14\n",
       "6765695   無開卡無生日     1\n",
       "6765716   無開卡無生日     3\n",
       "6765749   無開卡無生日     3\n",
       "6765761   無開卡無生日     4\n",
       "6765774   無開卡無生日     1\n",
       "Name: status, Length: 859146, dtype: int64"
      ]
     },
     "execution_count": 124,
     "metadata": {},
     "output_type": "execute_result"
    }
   ],
   "source": [
    "df_orders.groupby('MemberId')['status'].value_counts() "
   ]
  },
  {
   "cell_type": "code",
   "execution_count": 137,
   "metadata": {},
   "outputs": [],
   "source": [
    "df_orders['status'].notnull().value_counts() #merge之後orders多了未購物者的資料\n",
    "#只留下有購物者的資料\n",
    "df_orders.dropna(subset=['DateId'], inplace=True) #恢復成原來的5495276筆資料"
   ]
  },
  {
   "cell_type": "code",
   "execution_count": 148,
   "metadata": {},
   "outputs": [
    {
     "data": {
      "text/plain": [
       "True    5495276\n",
       "Name: status, dtype: int64"
      ]
     },
     "execution_count": 148,
     "metadata": {},
     "output_type": "execute_result"
    }
   ],
   "source": [
    "df_orders['status'].notnull().value_counts() #有5065筆資料不是會員（？）\n",
    "df_orders['status'].fillna('沒資料', inplace=True) #把沒資料的補上「沒資料」"
   ]
  },
  {
   "cell_type": "code",
   "execution_count": 169,
   "metadata": {},
   "outputs": [
    {
     "data": {
      "image/png": "[encoded data removed]",
      "text/plain": [
       "<Figure size 432x288 with 1 Axes>"
      ]
     },
     "metadata": {},
     "output_type": "display_data"
    },
    {
     "data": {
      "image/png": "[encoded data removed]",
      "text/plain": [
       "<Figure size 432x288 with 1 Axes>"
      ]
     },
     "metadata": {},
     "output_type": "display_data"
    }
   ],
   "source": [
    "palette ={\"Web\":\"C0\",\"AndroidApp\":\"C1\",\"iOSApp\":\"C2\"}\n",
    "sns.countplot(data = df_orders, x = 'status', hue ='TrackSourceTypeDef',  order = ['無開卡無生日', '有開卡無生日','有開卡有生日','無開卡有生日','沒資料'],palette = palette) \n",
    "plt.title('銷售資料中領禮的比例(重複人數，以消費次數計)')\n",
    "plt.show()\n",
    "#沒開卡沒生日：購物次數超多（幾乎全是會員）！且大多用web消費\n",
    "#有開卡：最多用ios消費，且三種來源的比例沒差太多\n",
    "\n",
    "sns.countplot(data = df_members, x = 'status', hue ='RegisterSourceTypeDef', order = ['無開卡無生日', '有開卡無生日','有開卡有生日','無開卡有生日'],palette = palette) \n",
    "plt.title('會員資料中領禮的比例(不重複人數)')\n",
    "plt.show()"
   ]
  },
  {
   "cell_type": "code",
   "execution_count": 178,
   "metadata": {},
   "outputs": [
    {
     "data": {
      "text/plain": [
       "False    829143\n",
       "True      30003\n",
       "Name: RegisterSourceTypeDef, dtype: int64"
      ]
     },
     "execution_count": 178,
     "metadata": {},
     "output_type": "execute_result"
    }
   ],
   "source": [
    "df_members['RegisterSourceTypeDef'].isnull().value_counts() #但member資料中，有30000筆資料不知道註冊來源"
   ]
  },
  {
   "cell_type": "code",
   "execution_count": 180,
   "metadata": {},
   "outputs": [
    {
     "name": "stdout",
     "output_type": "stream",
     "text": [
      "False    5495276\n",
      "Name: TrackSourceTypeDef, dtype: int64\n",
      "False    5495276\n",
      "Name: TrackDeviceTypeDef, dtype: int64\n"
     ]
    }
   ],
   "source": [
    "print(df_orders['TrackSourceTypeDef'].isnull().value_counts()) #orders的都有\n",
    "print(df_orders['TrackDeviceTypeDef'].isnull().value_counts())"
   ]
  },
  {
   "cell_type": "code",
   "execution_count": 186,
   "metadata": {},
   "outputs": [
    {
     "data": {
      "image/png": "[encoded data removed]",
      "text/plain": [
       "<Figure size 1196x360 with 3 Axes>"
      ]
     },
     "metadata": {},
     "output_type": "display_data"
    }
   ],
   "source": [
    "#銷售資料中領禮的比例(以消費次數計)\n",
    "sns.catplot(data = df_orders, x = 'status', col ='TrackDeviceTypeDef', hue = 'TrackSourceTypeDef', kind='count',order = ['無開卡無生日', '有開卡無生日','有開卡有生日','無開卡有生日','沒資料']) \n",
    "plt.show()\n",
    "\n",
    "#大多用mobile\n",
    "#無開卡無生日的：非常高比例用mobile，用PC的只有約1/3\n",
    "#有開卡有生日禮的，用web的最少，用app的是用web的三倍！"
   ]
  },
  {
   "cell_type": "code",
   "execution_count": 187,
   "metadata": {},
   "outputs": [
    {
     "data": {
      "text/plain": [
       "Mobile    4629625\n",
       "PC         865384\n",
       "Pad           267\n",
       "Name: TrackDeviceTypeDef, dtype: int64"
      ]
     },
     "execution_count": 187,
     "metadata": {},
     "output_type": "execute_result"
    }
   ],
   "source": [
    "df_orders['TrackDeviceTypeDef'].value_counts() #用pad的人很少，可忽略"
   ]
  },
  {
   "cell_type": "code",
   "execution_count": null,
   "metadata": {},
   "outputs": [],
   "source": []
  }
 ],
 "metadata": {
  "kernelspec": {
   "display_name": "Python 3",
   "language": "python",
   "name": "python3"
  },
  "language_info": {
   "codemirror_mode": {
    "name": "ipython",
    "version": 3
   },
   "file_extension": ".py",
   "mimetype": "text/x-python",
   "name": "python",
   "nbconvert_exporter": "python",
   "pygments_lexer": "ipython3",
   "version": "3.7.3"
  }
 },
 "nbformat": 4,
 "nbformat_minor": 2
}
