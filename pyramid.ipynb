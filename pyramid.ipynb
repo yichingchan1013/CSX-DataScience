{
 "cells": [
  {
   "cell_type": "code",
   "execution_count": 2,
   "metadata": {},
   "outputs": [],
   "source": [
    "import matplotlib.pyplot as plt\n",
    "import pandas as pd\n",
    "import numpy as np\n",
    "\n",
    "# This is a custom matplotlib style that I use for most of my charts\n",
    "#plt.style.use('https://gist.githubusercontent.com/rhiever/d0a7332fe0beebfdc3d5/raw/205e477cf231330fe2f265070f7c37982fd3130c/tableau10.mplstyle')\n",
    "\n"
   ]
  },
  {
   "cell_type": "code",
   "execution_count": 28,
   "metadata": {},
   "outputs": [
    {
     "data": {
      "text/html": [
       "<div>\n",
       "<style scoped>\n",
       "    .dataframe tbody tr th:only-of-type {\n",
       "        vertical-align: middle;\n",
       "    }\n",
       "\n",
       "    .dataframe tbody tr th {\n",
       "        vertical-align: top;\n",
       "    }\n",
       "\n",
       "    .dataframe thead th {\n",
       "        text-align: right;\n",
       "    }\n",
       "</style>\n",
       "<table border=\"1\" class=\"dataframe\">\n",
       "  <thead>\n",
       "    <tr style=\"text-align: right;\">\n",
       "      <th></th>\n",
       "      <th>Age_Range</th>\n",
       "      <th>Total_Pop_2010</th>\n",
       "      <th>Males_2010</th>\n",
       "      <th>Females_2010</th>\n",
       "    </tr>\n",
       "  </thead>\n",
       "  <tbody>\n",
       "    <tr>\n",
       "      <th>0</th>\n",
       "      <td>&lt;5</td>\n",
       "      <td>20201362</td>\n",
       "      <td>10319427</td>\n",
       "      <td>9881935</td>\n",
       "    </tr>\n",
       "    <tr>\n",
       "      <th>1</th>\n",
       "      <td>5-9</td>\n",
       "      <td>20348657</td>\n",
       "      <td>10389638</td>\n",
       "      <td>9959019</td>\n",
       "    </tr>\n",
       "    <tr>\n",
       "      <th>2</th>\n",
       "      <td>10-14</td>\n",
       "      <td>20677194</td>\n",
       "      <td>10579862</td>\n",
       "      <td>10097332</td>\n",
       "    </tr>\n",
       "    <tr>\n",
       "      <th>3</th>\n",
       "      <td>15-19</td>\n",
       "      <td>22040343</td>\n",
       "      <td>11303666</td>\n",
       "      <td>10736677</td>\n",
       "    </tr>\n",
       "    <tr>\n",
       "      <th>4</th>\n",
       "      <td>20-24</td>\n",
       "      <td>21585999</td>\n",
       "      <td>11014176</td>\n",
       "      <td>10571823</td>\n",
       "    </tr>\n",
       "    <tr>\n",
       "      <th>5</th>\n",
       "      <td>25-29</td>\n",
       "      <td>21101849</td>\n",
       "      <td>10635591</td>\n",
       "      <td>10466258</td>\n",
       "    </tr>\n",
       "    <tr>\n",
       "      <th>6</th>\n",
       "      <td>30-34</td>\n",
       "      <td>19962099</td>\n",
       "      <td>9996500</td>\n",
       "      <td>9965599</td>\n",
       "    </tr>\n",
       "    <tr>\n",
       "      <th>7</th>\n",
       "      <td>35-39</td>\n",
       "      <td>20179642</td>\n",
       "      <td>10042022</td>\n",
       "      <td>10137620</td>\n",
       "    </tr>\n",
       "    <tr>\n",
       "      <th>8</th>\n",
       "      <td>40-44</td>\n",
       "      <td>20890964</td>\n",
       "      <td>10393977</td>\n",
       "      <td>10496987</td>\n",
       "    </tr>\n",
       "    <tr>\n",
       "      <th>9</th>\n",
       "      <td>45-49</td>\n",
       "      <td>22708591</td>\n",
       "      <td>11209085</td>\n",
       "      <td>11499506</td>\n",
       "    </tr>\n",
       "    <tr>\n",
       "      <th>10</th>\n",
       "      <td>50-54</td>\n",
       "      <td>22298125</td>\n",
       "      <td>10933274</td>\n",
       "      <td>11364851</td>\n",
       "    </tr>\n",
       "    <tr>\n",
       "      <th>11</th>\n",
       "      <td>55-59</td>\n",
       "      <td>19664805</td>\n",
       "      <td>9523648</td>\n",
       "      <td>10141157</td>\n",
       "    </tr>\n",
       "    <tr>\n",
       "      <th>12</th>\n",
       "      <td>60-64</td>\n",
       "      <td>16817924</td>\n",
       "      <td>8077500</td>\n",
       "      <td>8740424</td>\n",
       "    </tr>\n",
       "    <tr>\n",
       "      <th>13</th>\n",
       "      <td>65-69</td>\n",
       "      <td>12435263</td>\n",
       "      <td>5852547</td>\n",
       "      <td>6582716</td>\n",
       "    </tr>\n",
       "    <tr>\n",
       "      <th>14</th>\n",
       "      <td>70-74</td>\n",
       "      <td>9278166</td>\n",
       "      <td>4243972</td>\n",
       "      <td>5034194</td>\n",
       "    </tr>\n",
       "    <tr>\n",
       "      <th>15</th>\n",
       "      <td>75-79</td>\n",
       "      <td>7317795</td>\n",
       "      <td>3182388</td>\n",
       "      <td>4135407</td>\n",
       "    </tr>\n",
       "    <tr>\n",
       "      <th>16</th>\n",
       "      <td>80-84</td>\n",
       "      <td>5743327</td>\n",
       "      <td>2294374</td>\n",
       "      <td>3448953</td>\n",
       "    </tr>\n",
       "    <tr>\n",
       "      <th>17</th>\n",
       "      <td>85-89</td>\n",
       "      <td>3620459</td>\n",
       "      <td>1273867</td>\n",
       "      <td>2346592</td>\n",
       "    </tr>\n",
       "    <tr>\n",
       "      <th>18</th>\n",
       "      <td>90-94</td>\n",
       "      <td>1448366</td>\n",
       "      <td>424387</td>\n",
       "      <td>1023979</td>\n",
       "    </tr>\n",
       "    <tr>\n",
       "      <th>19</th>\n",
       "      <td>95-99</td>\n",
       "      <td>371244</td>\n",
       "      <td>82263</td>\n",
       "      <td>288981</td>\n",
       "    </tr>\n",
       "    <tr>\n",
       "      <th>20</th>\n",
       "      <td>100+</td>\n",
       "      <td>53364</td>\n",
       "      <td>9162</td>\n",
       "      <td>44202</td>\n",
       "    </tr>\n",
       "  </tbody>\n",
       "</table>\n",
       "</div>"
      ],
      "text/plain": [
       "   Age_Range  Total_Pop_2010  Males_2010  Females_2010\n",
       "0         <5        20201362    10319427       9881935\n",
       "1        5-9        20348657    10389638       9959019\n",
       "2      10-14        20677194    10579862      10097332\n",
       "3      15-19        22040343    11303666      10736677\n",
       "4      20-24        21585999    11014176      10571823\n",
       "5      25-29        21101849    10635591      10466258\n",
       "6      30-34        19962099     9996500       9965599\n",
       "7      35-39        20179642    10042022      10137620\n",
       "8      40-44        20890964    10393977      10496987\n",
       "9      45-49        22708591    11209085      11499506\n",
       "10     50-54        22298125    10933274      11364851\n",
       "11     55-59        19664805     9523648      10141157\n",
       "12     60-64        16817924     8077500       8740424\n",
       "13     65-69        12435263     5852547       6582716\n",
       "14     70-74         9278166     4243972       5034194\n",
       "15     75-79         7317795     3182388       4135407\n",
       "16     80-84         5743327     2294374       3448953\n",
       "17     85-89         3620459     1273867       2346592\n",
       "18     90-94         1448366      424387       1023979\n",
       "19     95-99          371244       82263        288981\n",
       "20      100+           53364        9162         44202"
      ]
     },
     "execution_count": 28,
     "metadata": {},
     "output_type": "execute_result"
    }
   ],
   "source": [
    "age_gender_data = pd.read_csv('http://www.randalolson.com/wp-content/uploads/us-age-gender-breakdown.csv')\n",
    "age_gender_data.head(n=21)"
   ]
  },
  {
   "cell_type": "code",
   "execution_count": 58,
   "metadata": {},
   "outputs": [
    {
     "data": {
      "text/plain": [
       "''"
      ]
     },
     "execution_count": 58,
     "metadata": {},
     "output_type": "execute_result"
    },
    {
     "data": {
      "image/png": "[encoded data removed]",
      "text/plain": [
       "<Figure size 1440x720 with 1 Axes>"
      ]
     },
     "metadata": {
      "needs_background": "light"
     },
     "output_type": "display_data"
    }
   ],
   "source": [
    "fig = plt.figure(figsize=(20, 10)) #圖的長寬大小\n",
    "ax1 = fig.add_subplot(111) #subplot(mnk) refers to:  m*n, k=position\n",
    "\n",
    "for (i, row) in age_gender_data.iterrows(): \n",
    "    # Iterate over DataFrame rows as (index=label of the row, Series=data of the row) pairs.\n",
    "    plt.bar( [i,i] , [row['Females_2010'], -row['Males_2010']],\n",
    "            color=['#CC6699', '#008AB8'], width=0.8, align='center', edgecolor='none') #.bar(index(位置), value,...)\n",
    "\n",
    "plt.xlim(-0.6, 20.6) #(xmin, xmax)\n",
    "plt.ylim(-12.1e6, 12.1e6)\n",
    "#plt.grid(b=bool, which='major', axis='x',linestyle='-')\n",
    "plt.xticks(np.arange(0, 21), age_gender_data['Age_Range'], fontsize=11) #(分成幾格、每格的label、)\n",
    "plt.yticks(np.arange(-12e6, 13e6, 2e6),\n",
    "           ['{}m'.format(int(abs(x) / 1e6)) if x != 0 else 0 for x in np.arange(-12e6, 13e6, 2e6)])\n",
    "plt.xlabel('Age group')\n",
    "plt.ylabel('Number of people (millions)')\n",
    "\n",
    "#plt.savefig('pop_pyramid_rotated.pdf')\n",
    ";"
   ]
  },
  {
   "cell_type": "code",
   "execution_count": 61,
   "metadata": {},
   "outputs": [
    {
     "data": {
      "text/plain": [
       "''"
      ]
     },
     "execution_count": 61,
     "metadata": {},
     "output_type": "execute_result"
    },
    {
     "data": {
      "image/png": "[encoded data removed]",
      "text/plain": [
       "<Figure size 1080x504 with 1 Axes>"
      ]
     },
     "metadata": {
      "needs_background": "light"
     },
     "output_type": "display_data"
    }
   ],
   "source": [
    "fig = plt.figure(figsize=(15, 7))\n",
    "ax1 = fig.add_subplot(111)\n",
    "\n",
    "for (i, row) in age_gender_data.iterrows():\n",
    "    plt.bar([i-0.2 ,i+0.2], [row['Females_2010'], row['Males_2010']],\n",
    "            color=['#CC6699', '#008AB8'], width=0.4, align='center', edgecolor='none')  #因為定義bar寬度為0.4，所以讓男女bar各自偏移0.2\n",
    "    \n",
    "plt.xlim(-0.6, 20.6)\n",
    "plt.xticks(range(0, 21), age_gender_data['Age_Range'], fontsize=11)\n",
    "#plt.grid(False, axis='x')\n",
    "plt.yticks(np.arange(0, 13e6, 1e6),\n",
    "           ['{}m'.format(int(x / 1e6)) if x > 0 else 0 for x in np.arange(0, 13e6, 1e6)])\n",
    "plt.xlabel('Age group')\n",
    "plt.ylabel('Number of people (millions)')\n",
    "\n",
    "\n",
    ";"
   ]
  },
  {
   "cell_type": "code",
   "execution_count": 67,
   "metadata": {},
   "outputs": [
    {
     "data": {
      "text/plain": [
       "[<matplotlib.lines.Line2D at 0x10fa89ac8>]"
      ]
     },
     "execution_count": 67,
     "metadata": {},
     "output_type": "execute_result"
    },
    {
     "data": {
      "image/png": "[encoded data removed]",
      "text/plain": [
       "<Figure size 1080x504 with 1 Axes>"
      ]
     },
     "metadata": {
      "needs_background": "light"
     },
     "output_type": "display_data"
    }
   ],
   "source": [
    "age_gender_data['Male_Pct'] = age_gender_data['Males_2010'] / age_gender_data['Total_Pop_2010']\n",
    "age_gender_data['Female_Pct'] = age_gender_data['Females_2010'] / age_gender_data['Total_Pop_2010']\n",
    "\n",
    "plt.figure(figsize=(15, 7))\n",
    "\n",
    "for (i, row) in age_gender_data.iterrows():\n",
    "    plt.bar([i], [row['Male_Pct']],\n",
    "            color=['#008AB8'], width=0.9, align='center', edgecolor='none') #男生照正常的去放\n",
    "    plt.bar([i], [row['Female_Pct']], bottom=[row['Male_Pct']], #bottom讓女生放在男生上面\n",
    "            color=['#CC6699'], width=0.9, align='center', edgecolor='none')\n",
    "    \n",
    "plt.xlim(-0.6, 20.6)\n",
    "plt.ylim(0, 1)\n",
    "plt.xticks(range(0, 21), age_gender_data['Age_Range'], fontsize=11)\n",
    "plt.grid(False)\n",
    "plt.yticks(np.arange(0, 1.01, 0.25),\n",
    "           ['{}%'.format(int(x * 100)) for x in np.arange(0, 1.01, 0.25)])\n",
    "plt.xlabel('Age group')\n",
    "plt.ylabel('Percentage of age group')\n",
    "\n",
    "plt.plot([-0.425, 20.425], [0.5, 0.5], lw=2, color='black') #(range of x, range of y)\n",
    "plt.plot([-0.425, 20.425], [0.25, 0.25], lw=2, color='black')"
   ]
  },
  {
   "cell_type": "code",
   "execution_count": null,
   "metadata": {},
   "outputs": [],
   "source": []
  }
 ],
 "metadata": {
  "kernelspec": {
   "display_name": "Python 3",
   "language": "python",
   "name": "python3"
  },
  "language_info": {
   "codemirror_mode": {
    "name": "ipython",
    "version": 3
   },
   "file_extension": ".py",
   "mimetype": "text/x-python",
   "name": "python",
   "nbconvert_exporter": "python",
   "pygments_lexer": "ipython3",
   "version": "3.7.2"
  }
 },
 "nbformat": 4,
 "nbformat_minor": 2
}
